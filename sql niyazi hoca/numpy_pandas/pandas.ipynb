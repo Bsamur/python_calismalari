{
 "cells": [
  {
   "cell_type": "code",
   "execution_count": 1,
   "metadata": {},
   "outputs": [
    {
     "name": "stdout",
     "output_type": "stream",
     "text": [
      "   çalisan         grup  isegiris\n",
      "0  bahadır  mühendislik      2012\n",
      "1    Ahmet        satis      2010\n",
      "2      tan     muhasebe      2005\n",
      "3    kemal           İK      2003\n",
      "4   niyazi      yazılım      2021\n"
     ]
    }
   ],
   "source": [
    "\n",
    "import numpy as np\n",
    "import pandas as pd\n",
    "\n",
    "df1=pd.DataFrame({\"çalisan\":[\"bahadır\",\"Ahmet\",\"tan\",\"kemal\",\"niyazi\"],\n",
    "                  \"grup\":[\"mühendislik\",\"satis\",\"muhasebe\",\"İK\",\"yazılım\"]})\n",
    "\n",
    "df2=pd.DataFrame({\"çalisan\":[\"bahadır\",\"Ahmet\",\"tan\",\"kemal\",\"niyazi\"],\n",
    "                  \"isegiris\":[2012,2010,2005,2003,2021]})\n",
    "df3=pd.merge(df1,df2)\n",
    "print(df3)\n",
    "\n"
   ]
  }
 ],
 "metadata": {
  "kernelspec": {
   "display_name": "Python 3.10.5 64-bit",
   "language": "python",
   "name": "python3"
  },
  "language_info": {
   "codemirror_mode": {
    "name": "ipython",
    "version": 3
   },
   "file_extension": ".py",
   "mimetype": "text/x-python",
   "name": "python",
   "nbconvert_exporter": "python",
   "pygments_lexer": "ipython3",
   "version": "3.10.5"
  },
  "orig_nbformat": 4,
  "vscode": {
   "interpreter": {
    "hash": "26de051ba29f2982a8de78e945f0abaf191376122a1563185a90213a26c5da77"
   }
  }
 },
 "nbformat": 4,
 "nbformat_minor": 2
}
