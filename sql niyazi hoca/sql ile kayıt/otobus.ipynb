{
 "cells": [
  {
   "cell_type": "code",
   "execution_count": 2,
   "metadata": {},
   "outputs": [],
   "source": [
    "import sys\n",
    "import mysql.connector as sql\n",
    "\n",
    "from PyQt5.QtWidgets import QMainWindow,QApplication\n",
    "from PyQt5 import uic\n",
    "import easygui\n",
    "\n",
    "\n",
    "\n",
    "\n",
    "class otobos(QMainWindow):\n",
    "    def __init__(self) :\n",
    "        super().__init__()\n",
    "        \n",
    "        self.basla()\n",
    "        \n",
    "    def basla(self):\n",
    "        uic.loadUi(r\"C:/Users/LENOVO/Desktop/kodlama egzersizleri/sql niyazi hoca/sql ile kayıt/Otobus.ui\",self)\n",
    "        self.show()\n",
    "        self.Yolcubilgileri.setCurrentIndex(0)\n",
    "        self.Otobus.setEnabled(False)\n",
    "        self.btnkaydet.clicked.connect(self.yolcukayit)\n",
    "       \n",
    "        \n",
    "    def baglan(self):\n",
    "        self.db=sql.connect(user=\"root\",host=\"127.0.0.1\",password=\"\",database=\"otobus\")\n",
    "        self.cur=self.db.cursor()\n",
    "        \n",
    "        \n",
    "    def yolcukayit(self):\n",
    "        \n",
    "        yolcuadi=self.txtyolcuadi.text()\n",
    "        yolcusoyadi=self.txtuolcusoyadi.text()\n",
    "        yolcutc=self.txtyolcutc.txt()\n",
    "        \n",
    "        sorgu=f\"INSERT INTO yolcu (adi,soyadi,tc_no) VALUES ('{yolcuadi}','{yolcusoyadi}','{yolcutc}');\"\n",
    "        self.baglan()\n",
    "        self.cur.execute(sorgu)\n",
    "        self.db.commit()\n",
    "        self.kes()\n",
    "        easygui.msgbox(\"kayıt başarılı\",title=\"Sonuç:\")\n",
    "        \n",
    "        \n",
    "    def kes(self):\n",
    "        self.cur.close()\n",
    "        self.db.close()"
   ]
  }
 ],
 "metadata": {
  "kernelspec": {
   "display_name": "Python 3.10.5 64-bit",
   "language": "python",
   "name": "python3"
  },
  "language_info": {
   "codemirror_mode": {
    "name": "ipython",
    "version": 3
   },
   "file_extension": ".py",
   "mimetype": "text/x-python",
   "name": "python",
   "nbconvert_exporter": "python",
   "pygments_lexer": "ipython3",
   "version": "3.10.5"
  },
  "orig_nbformat": 4,
  "vscode": {
   "interpreter": {
    "hash": "26de051ba29f2982a8de78e945f0abaf191376122a1563185a90213a26c5da77"
   }
  }
 },
 "nbformat": 4,
 "nbformat_minor": 2
}
